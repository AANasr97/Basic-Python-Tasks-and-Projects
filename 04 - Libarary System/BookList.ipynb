{
 "cells": [
  {
   "cell_type": "code",
   "execution_count": 1,
   "metadata": {},
   "outputs": [],
   "source": [
    "ls1 =['Data Science for Business', 'Python for Data Analysis', 'Data Science from Scratch', 'Data Smart', 'Doing Data Science', 'Data Science Essentials in Python', 'R for Data Science', 'Data Science with Python', 'Python Data Science Handbook', 'Hands-On Data Science for Marketing', 'Data Science from Scratch', 'Practical Statistics for Data Scientists', 'Data Science on the Google Cloud Platform', 'Data Science for Dummies', 'Data Science Projects with Python', 'Python Machine Learning', 'Introduction to Machine Learning with Python', 'Applied Machine Learning', 'Hands-On Machine Learning with Scikit-Learn', 'Machine Learning Yearning', 'The Hundred-Page Machine Learning Book', 'Python Machine Learning Blueprints', 'Data Mining: Concepts and Techniques', 'Data Mining: Practical Machine Learning Tools and Techniques', 'Data Mining and Analysis', 'Python Data Science Essentials', 'Data Science and Big Data Analytics', 'Data Analysis with Open Source Tools', 'Python Data Analytics', 'Data Science and Visualization', 'Data Science for Healthcare', 'Data Science for Social Good', 'Python Data Science Cookbook', 'Data Science for Startups', 'Big Data Analytics with R and Hadoop', 'Data Analysis and Graphics Using R', 'The Elements of Statistical Learning', 'Statistical Learning from a Regression Perspective', 'Mining of Massive Datasets', 'Pattern Recognition and Machine Learning', 'Data Visualization: Principles and Practice', 'Data Science from Scratch with Python', 'Introduction to Data Science in Python', 'Bayesian Data Analysis', 'Statistical Analysis with Excel For Dummies', 'Data Science for Transport']\n",
    "ls2 =['Clean Code', 'Code Complete', 'The Pragmatic Programmer', 'Structure and Interpretation of Computer Programs', 'Introduction to Algorithms', 'Algorithms Unlocked', 'The Art of Computer Programming', 'Head First Design Patterns', 'Cracking the Coding Interview', 'The Mythical Man-Month', 'Programming Pearls', 'Effective C++', 'Code', 'Code Reading', 'The C Programming Language', 'C++ Primer', 'Programming in Lua', 'The Art of UNIX Programming', 'Unix Network Programming', 'The Practice of Programming', 'Expert C Programming', 'Software Tools', 'The Design of Everyday Things', 'Don’t Make Me Think', 'The Elements of User Experience', 'The Lean Startup', 'Rework', 'Getting Real', 'Code Simplicity', 'The Art of Agile Development', 'Agile Estimating and Planning', 'Extreme Programming Explained', 'Refactoring', 'Working Effectively with Legacy Code', 'Continuous Delivery', 'The Phoenix Project', 'Accelerate', 'Code Complete 2', 'Effective Java', 'Java Concurrency in Practice', 'Head First Java', 'Thinking in Java', 'Python Crash Course', 'Automate the Boring Stuff with Python', 'Learn Python the Hard Way', 'Fluent Python', 'Python Tricks', 'Python Cookbook', 'Effective Python', 'Python for Data Science Handbook', 'Think Python', 'Learning Python', 'The Hitchhiker’s Guide to Python', 'Programming Python']\n",
    "ls3 =['Machine Learning: A Probabilistic Perspective', 'The Elements of Statistical Learning', 'Pattern Recognition and Machine Learning', 'Deep Learning', 'Hands-On Machine Learning with Scikit-Learn', 'Reinforcement Learning', 'Bayesian Reasoning and Machine Learning', 'Machine Learning Yearning', 'Python Machine Learning', 'An Introduction to Machine Learning', 'Practical Machine Learning with Python', 'Advanced Machine Learning with Python', 'Hands-On Data Science and Python Machine Learning']"
   ]
  },
  {
   "cell_type": "markdown",
   "metadata": {},
   "source": [
    "<details><summary>Done By</summary>\n",
    "<center> Ahmed NasrElDin </center> \n",
    "</details>\n"
   ]
  }
 ],
 "metadata": {
  "kernelspec": {
   "display_name": "DS",
   "language": "python",
   "name": "python3"
  },
  "language_info": {
   "codemirror_mode": {
    "name": "ipython",
    "version": 3
   },
   "file_extension": ".py",
   "mimetype": "text/x-python",
   "name": "python",
   "nbconvert_exporter": "python",
   "pygments_lexer": "ipython3",
   "version": "3.10.9"
  },
  "vscode": {
   "interpreter": {
    "hash": "2f35561962b3536e798d9d7f8aed8a6570157df2537699a33c475af9309799d3"
   }
  }
 },
 "nbformat": 4,
 "nbformat_minor": 4
}
