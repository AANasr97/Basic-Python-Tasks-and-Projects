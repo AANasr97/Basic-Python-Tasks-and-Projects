{
 "cells": [
  {
   "attachments": {},
   "cell_type": "markdown",
   "metadata": {},
   "source": [
    "# Thanos Project"
   ]
  },
  {
   "cell_type": "markdown",
   "metadata": {},
   "source": [
    "<img src=\"thanos.jpg\">"
   ]
  },
  {
   "attachments": {},
   "cell_type": "markdown",
   "metadata": {},
   "source": [
    "### This code is a Python program that performs file manipulation operations using the OS module. It is a demonstration of how to rename files in a folder and how to delete files randomly using Python."
   ]
  },
  {
   "cell_type": "code",
   "execution_count": 1,
   "metadata": {},
   "outputs": [],
   "source": [
    "#   Imports the necessary Python modules that will be used in the program.\n",
    "import os\n",
    "                # 'os' and 'shutil' are used to perform file manipulation operations\n",
    "import shutil\n",
    "import random   # 'random' is used to randomly select files for deletion\n",
    "import time     # 'time' is used to add some time delay to the program\n",
    "from tqdm import tqdm # 'tqdm' is used for a progress bar\n",
    "import glob     # 'glob' is used to search for files in a directory"
   ]
  },
  {
   "attachments": {},
   "cell_type": "markdown",
   "metadata": {},
   "source": [
    "**Renaming Files**"
   ]
  },
  {
   "cell_type": "code",
   "execution_count": 2,
   "metadata": {},
   "outputs": [
    {
     "data": {
      "text/plain": [
       "['cover006.png',\n",
       " 'cover012.png',\n",
       " 'cover013.png',\n",
       " 'cover007.png',\n",
       " 'cover039.png',\n",
       " 'cover011.png',\n",
       " 'cover005.png',\n",
       " 'cover004.png',\n",
       " 'cover010.png',\n",
       " 'cover038.png',\n",
       " 'cover014.png',\n",
       " '.DS_Store',\n",
       " 'cover028.png',\n",
       " 'cover029.png',\n",
       " 'cover001.png',\n",
       " 'cover015.png',\n",
       " 'cover003.png',\n",
       " 'cover017.png',\n",
       " 'cover016.png',\n",
       " 'cover002.png',\n",
       " 'cover048.png',\n",
       " 'cover049.png',\n",
       " 'cover044.png',\n",
       " 'cover050.png',\n",
       " 'cover045.png',\n",
       " 'cover047.png',\n",
       " 'cover046.png',\n",
       " 'cover042.png',\n",
       " 'cover043.png',\n",
       " 'cover041.png',\n",
       " 'cover040.png',\n",
       " 'cover027.png',\n",
       " 'cover033.png',\n",
       " 'cover032.png',\n",
       " 'cover026.png',\n",
       " 'desktop.ini',\n",
       " 'cover018.png',\n",
       " 'cover030.png',\n",
       " 'cover024.png',\n",
       " 'cover025.png',\n",
       " 'cover031.png',\n",
       " 'cover019.png',\n",
       " 'cover035.png',\n",
       " 'cover021.png',\n",
       " 'cover009.png',\n",
       " 'cover008.png',\n",
       " 'cover020.png',\n",
       " 'cover034.png',\n",
       " 'cover022.png',\n",
       " 'cover036.png',\n",
       " 'cover037.png',\n",
       " 'cover023.png']"
      ]
     },
     "execution_count": 2,
     "metadata": {},
     "output_type": "execute_result"
    }
   ],
   "source": [
    "def show_universe(path = \"universe\"): # The 'show_universe' function takes a 'path' argument, which is set to 'universe' by default.\n",
    "    universe = os.listdir(path)\n",
    "    return universe\n",
    "\n",
    "show_universe() # The function returns a list of all the files in the specified directory using the 'os.listdir()' method."
   ]
  },
  {
   "cell_type": "code",
   "execution_count": 3,
   "metadata": {},
   "outputs": [
    {
     "name": "stderr",
     "output_type": "stream",
     "text": [
      "100%|██████████| 52/52 [00:13<00:00,  3.90it/s]\n"
     ]
    }
   ],
   "source": [
    "def rename_files(path = \"universe\"):  # The 'rename_files' function renames all files in the specified directory using the 'os.rename()' method.\n",
    "    for count, filename in tqdm(enumerate(os.listdir(path)), total=len(os.listdir(path))):\n",
    "        dst = f\"Renamed By {str(count)}.png\" # It generates new filenames by adding a number to the end of each filename. \n",
    "        src =f\"{path}/{filename}\"  # pathname/filename, if .py file is outside path\n",
    "        dst =f\"{path}/{dst}\"    #   The new filenames are stored in the same directory as the original files.\n",
    "        os.rename(src, dst)\n",
    "        time.sleep(0.25)\n",
    "rename_files()"
   ]
  },
  {
   "cell_type": "code",
   "execution_count": 4,
   "metadata": {},
   "outputs": [
    {
     "data": {
      "text/plain": [
       "['Renamed By 44.png',\n",
       " 'Renamed By 50.png',\n",
       " 'Renamed By 51.png',\n",
       " 'Renamed By 45.png',\n",
       " 'Renamed By 47.png',\n",
       " 'Renamed By 46.png',\n",
       " 'Renamed By 42.png',\n",
       " 'Renamed By 43.png',\n",
       " 'Renamed By 41.png',\n",
       " 'Renamed By 40.png',\n",
       " 'Renamed By 27.png',\n",
       " 'Renamed By 33.png',\n",
       " 'Renamed By 1.png',\n",
       " 'Renamed By 0.png',\n",
       " 'Renamed By 32.png',\n",
       " 'Renamed By 26.png',\n",
       " 'Renamed By 18.png',\n",
       " 'Renamed By 30.png',\n",
       " 'Renamed By 24.png',\n",
       " 'Renamed By 2.png',\n",
       " 'Renamed By 3.png',\n",
       " 'Renamed By 25.png',\n",
       " 'Renamed By 31.png',\n",
       " 'Renamed By 19.png',\n",
       " 'Renamed By 35.png',\n",
       " 'Renamed By 21.png',\n",
       " 'Renamed By 7.png',\n",
       " 'Renamed By 6.png',\n",
       " 'Renamed By 20.png',\n",
       " 'Renamed By 34.png',\n",
       " 'Renamed By 22.png',\n",
       " 'Renamed By 36.png',\n",
       " 'Renamed By 4.png',\n",
       " 'Renamed By 5.png',\n",
       " 'Renamed By 37.png',\n",
       " 'Renamed By 23.png',\n",
       " 'Renamed By 12.png',\n",
       " 'Renamed By 8.png',\n",
       " 'Renamed By 9.png',\n",
       " 'Renamed By 13.png',\n",
       " 'Renamed By 39.png',\n",
       " 'Renamed By 11.png',\n",
       " 'Renamed By 10.png',\n",
       " 'Renamed By 38.png',\n",
       " 'Renamed By 14.png',\n",
       " 'Renamed By 28.png',\n",
       " 'Renamed By 29.png',\n",
       " 'Renamed By 15.png',\n",
       " 'Renamed By 17.png',\n",
       " 'Renamed By 16.png',\n",
       " 'Renamed By 48.png',\n",
       " 'Renamed By 49.png']"
      ]
     },
     "execution_count": 4,
     "metadata": {},
     "output_type": "execute_result"
    }
   ],
   "source": [
    "universe = show_universe()\n",
    "universe    # After renaming the files, the function calls the 'show_universe()' function to print the list of the renamed files."
   ]
  },
  {
   "cell_type": "markdown",
   "metadata": {},
   "source": [
    "**Start Destroying The World**"
   ]
  },
  {
   "cell_type": "code",
   "execution_count": 5,
   "metadata": {},
   "outputs": [
    {
     "name": "stderr",
     "output_type": "stream",
     "text": [
      "100%|██████████| 26/26 [00:06<00:00,  3.89it/s]"
     ]
    },
    {
     "name": "stdout",
     "output_type": "stream",
     "text": [
      "Perfectly balanced, as all things should be\n"
     ]
    },
    {
     "name": "stderr",
     "output_type": "stream",
     "text": [
      "\n"
     ]
    }
   ],
   "source": [
    "def thanos_snap(universe):  # The 'thanos_snap' function takes a list of filenames as an argument and deletes half of them randomly using the 'os.remove()' method.\n",
    "    half_of_universe = int(len(universe) / 2)   #The function first calculates the number of files to delete, which is half of the total number of files in the directory.\n",
    "    for i in tqdm(range(half_of_universe)):     #It then loops through and deletes files randomly using the 'random.choice()' method until the required number of files are deleted.\n",
    "        universe = show_universe(\"universe\")\n",
    "        os.remove(\"universe/\" + random.choice(universe))\n",
    "        time.sleep(0.25)\n",
    "    print('Perfectly balanced, as all things should be') # After deleting the files, the function prints a message indicating that everything is balanced.\n",
    "\n",
    "thanos_snap(universe) # The main program then calls the 'thanos_snap' function on the 'universe' list of files"
   ]
  },
  {
   "cell_type": "code",
   "execution_count": 6,
   "metadata": {},
   "outputs": [
    {
     "name": "stdout",
     "output_type": "stream",
     "text": [
      "26\n"
     ]
    },
    {
     "data": {
      "text/plain": [
       "['Renamed By 50.png',\n",
       " 'Renamed By 47.png',\n",
       " 'Renamed By 43.png',\n",
       " 'Renamed By 40.png',\n",
       " 'Renamed By 27.png',\n",
       " 'Renamed By 33.png',\n",
       " 'Renamed By 0.png',\n",
       " 'Renamed By 18.png',\n",
       " 'Renamed By 25.png',\n",
       " 'Renamed By 31.png',\n",
       " 'Renamed By 19.png',\n",
       " 'Renamed By 7.png',\n",
       " 'Renamed By 6.png',\n",
       " 'Renamed By 20.png',\n",
       " 'Renamed By 36.png',\n",
       " 'Renamed By 4.png',\n",
       " 'Renamed By 5.png',\n",
       " 'Renamed By 23.png',\n",
       " 'Renamed By 8.png',\n",
       " 'Renamed By 39.png',\n",
       " 'Renamed By 11.png',\n",
       " 'Renamed By 38.png',\n",
       " 'Renamed By 14.png',\n",
       " 'Renamed By 29.png',\n",
       " 'Renamed By 15.png',\n",
       " 'Renamed By 49.png']"
      ]
     },
     "execution_count": 6,
     "metadata": {},
     "output_type": "execute_result"
    }
   ],
   "source": [
    "# Prints the number of files before and after deletion, and prints the new list of files in the directory.\n",
    "new_universe = show_universe(\"universe\") \n",
    "print(len(new_universe))\n",
    "new_universe"
   ]
  },
  {
   "cell_type": "markdown",
   "metadata": {},
   "source": [
    "# Great Work!"
   ]
  }
 ],
 "metadata": {
  "kernelspec": {
   "display_name": "DS",
   "language": "python",
   "name": "python3"
  },
  "language_info": {
   "codemirror_mode": {
    "name": "ipython",
    "version": 3
   },
   "file_extension": ".py",
   "mimetype": "text/x-python",
   "name": "python",
   "nbconvert_exporter": "python",
   "pygments_lexer": "ipython3",
   "version": "3.10.9"
  },
  "vscode": {
   "interpreter": {
    "hash": "2f35561962b3536e798d9d7f8aed8a6570157df2537699a33c475af9309799d3"
   }
  }
 },
 "nbformat": 4,
 "nbformat_minor": 2
}
