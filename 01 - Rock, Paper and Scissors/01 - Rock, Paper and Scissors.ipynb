{
 "cells": [
  {
   "attachments": {},
   "cell_type": "markdown",
   "metadata": {},
   "source": [
    "This code is a Python implementation of the Rock-Paper-Scissors game.\n",
    "\n",
    "The code starts by importing the random module. Then, it defines three variables rock, paper, and scissors which are strings representing the ASCII art of the corresponding game option.\n",
    "\n",
    "Next, the code enters a loop which continuously prompts the user to play the game until they choose to stop. Within this loop, another loop is used to prompt the user to choose either 'R' for rock, 'P' for paper, or 'S' for scissors. If the user's input is not one of these options, an error message is displayed and the prompt is repeated until a valid input is entered.\n",
    "\n",
    "After the user makes their choice, the program uses the random module to generate a random choice for the bot. The program then prints out the choices of both the player and the bot.\n",
    "\n",
    "Finally, the code compares the player's choice with the bot's choice and determines the winner of the game. If the game is a tie, it prints a message indicating this. If the player wins, it prints a message indicating this, and if the player loses, it prints a message indicating this.\n",
    "\n",
    "The user is then prompted to play again or exit the program. If the user chooses to play again, the game restarts, otherwise the program exits.\n",
    "\n",
    "Overall, this code is a fun and interactive game that demonstrates basic programming concepts such as loops, conditionals, and user input/output."
   ]
  },
  {
   "cell_type": "code",
   "execution_count": 1,
   "metadata": {},
   "outputs": [],
   "source": [
    "import random\n",
    "\n",
    "rock = '''\n",
    "    _______\n",
    "---'   ____)\n",
    "      (_____)\n",
    "      (_____)\n",
    "      (____)\n",
    "---.__(___)\n",
    "'''\n",
    "paper = '''\n",
    "    _______\n",
    "---'   ____)____\n",
    "          ______)\n",
    "          _______)\n",
    "         _______)\n",
    "---.__________)\n",
    "'''\n",
    "scissors = '''\n",
    "    _______\n",
    "---'   ____)____\n",
    "          ______)\n",
    "       __________)\n",
    "      (____)\n",
    "---.__(___)\n",
    "'''"
   ]
  },
  {
   "cell_type": "code",
   "execution_count": 2,
   "metadata": {},
   "outputs": [
    {
     "name": "stdout",
     "output_type": "stream",
     "text": [
      "Welcome to the Rock-Paper-Scissors Game!\n",
      "You Chosed rock \n",
      "    _______\n",
      "---'   ____)\n",
      "      (_____)\n",
      "      (_____)\n",
      "      (____)\n",
      "---.__(___)\n",
      "\n",
      "BOT Chose paper \n",
      "    _______\n",
      "---'   ____)____\n",
      "          ______)\n",
      "          _______)\n",
      "         _______)\n",
      "---.__________)\n",
      "\n",
      "You lose.\n"
     ]
    }
   ],
   "source": [
    "while True:\n",
    "    \n",
    "    print(\"Welcome to the Rock-Paper-Scissors Game!\")\n",
    "\n",
    "    \n",
    "    while True:\n",
    "        player_choice = input(\"'R' For Rock, 'P' For Paper and 'S' Scissors. \\n\").upper()\n",
    "        if player_choice == \"R\":\n",
    "            print(\"You Chosed rock\", rock)\n",
    "            break\n",
    "        elif player_choice == \"P\":\n",
    "            print(\"You Chosed paper\", paper)\n",
    "            break\n",
    "        elif player_choice == \"S\":\n",
    "            print(\"You Chosed scissors\", scissors)\n",
    "            break\n",
    "        else:\n",
    "            print(\"Wrong Try Again.\")\n",
    "\n",
    "    bot_choice = random.choice([\"R\", \"P\", \"S\"])\n",
    "\n",
    "    if bot_choice == \"S\":\n",
    "        print(\"BOT Chose scissors\", scissors)\n",
    "    elif bot_choice == \"R\":\n",
    "        print(\"BOT Chose rock\", rock)\n",
    "    elif bot_choice == \"P\":\n",
    "        print(\"BOT Chose paper\", paper)\n",
    "\n",
    "    if player_choice == bot_choice:\n",
    "        print(\"It's a tie!\")\n",
    "    elif player_choice == \"R\" and bot_choice == \"S\":\n",
    "        print(\"You win!\")\n",
    "    elif player_choice == \"P\" and bot_choice == \"R\":\n",
    "        print(\"You win!\")\n",
    "    elif player_choice == \"S\" and bot_choice == \"P\":\n",
    "        print(\"You win!\")\n",
    "    else:\n",
    "        print(\"You lose.\")\n",
    "\n",
    "    play_again = input(\"Do you want to play again? (y/n)\").lower()\n",
    "    if play_again != \"y\" or \"yes\":\n",
    "        break"
   ]
  },
  {
   "attachments": {},
   "cell_type": "markdown",
   "metadata": {},
   "source": [
    "<details><summary>Done By</summary>\n",
    "<center> Ahmed NasrElDin </center> \n",
    "</details>\n"
   ]
  }
 ],
 "metadata": {
  "kernelspec": {
   "display_name": "DS",
   "language": "python",
   "name": "python3"
  },
  "language_info": {
   "codemirror_mode": {
    "name": "ipython",
    "version": 3
   },
   "file_extension": ".py",
   "mimetype": "text/x-python",
   "name": "python",
   "nbconvert_exporter": "python",
   "pygments_lexer": "ipython3",
   "version": "3.10.8"
  },
  "orig_nbformat": 4,
  "vscode": {
   "interpreter": {
    "hash": "2f35561962b3536e798d9d7f8aed8a6570157df2537699a33c475af9309799d3"
   }
  }
 },
 "nbformat": 4,
 "nbformat_minor": 2
}
