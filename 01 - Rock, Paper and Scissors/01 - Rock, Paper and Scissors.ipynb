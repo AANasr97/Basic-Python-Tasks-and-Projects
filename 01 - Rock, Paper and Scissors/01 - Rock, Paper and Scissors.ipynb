{
 "cells": [
  {
   "cell_type": "code",
   "execution_count": 1,
   "metadata": {},
   "outputs": [],
   "source": [
    "import random\n",
    "\n",
    "rock = '''\n",
    "    _______\n",
    "---'   ____)\n",
    "      (_____)\n",
    "      (_____)\n",
    "      (____)\n",
    "---.__(___)\n",
    "'''\n",
    "paper = '''\n",
    "    _______\n",
    "---'   ____)____\n",
    "          ______)\n",
    "          _______)\n",
    "         _______)\n",
    "---.__________)\n",
    "'''\n",
    "scissors = '''\n",
    "    _______\n",
    "---'   ____)____\n",
    "          ______)\n",
    "       __________)\n",
    "      (____)\n",
    "---.__(___)\n",
    "'''"
   ]
  },
  {
   "cell_type": "code",
   "execution_count": 2,
   "metadata": {},
   "outputs": [
    {
     "name": "stdout",
     "output_type": "stream",
     "text": [
      "Welcome to the Rock-Paper-Scissors Game!\n",
      "You Chosed rock \n",
      "    _______\n",
      "---'   ____)\n",
      "      (_____)\n",
      "      (_____)\n",
      "      (____)\n",
      "---.__(___)\n",
      "\n",
      "BOT Chose paper \n",
      "    _______\n",
      "---'   ____)____\n",
      "          ______)\n",
      "          _______)\n",
      "         _______)\n",
      "---.__________)\n",
      "\n",
      "You lose.\n"
     ]
    }
   ],
   "source": [
    "while True:\n",
    "    \n",
    "    print(\"Welcome to the Rock-Paper-Scissors Game!\")\n",
    "\n",
    "    \n",
    "    while True:\n",
    "        player_choice = input(\"'R' For Rock, 'P' For Paper and 'S' Scissors. \\n\").upper()\n",
    "        if player_choice == \"R\":\n",
    "            print(\"You Chosed rock\", rock)\n",
    "            break\n",
    "        elif player_choice == \"P\":\n",
    "            print(\"You Chosed paper\", paper)\n",
    "            break\n",
    "        elif player_choice == \"S\":\n",
    "            print(\"You Chosed scissors\", scissors)\n",
    "            break\n",
    "        else:\n",
    "            print(\"Wrong Try Again.\")\n",
    "\n",
    "    bot_choice = random.choice([\"R\", \"P\", \"S\"])\n",
    "\n",
    "    if bot_choice == \"S\":\n",
    "        print(\"BOT Chose scissors\", scissors)\n",
    "    elif bot_choice == \"R\":\n",
    "        print(\"BOT Chose rock\", rock)\n",
    "    elif bot_choice == \"P\":\n",
    "        print(\"BOT Chose paper\", paper)\n",
    "\n",
    "    if player_choice == bot_choice:\n",
    "        print(\"It's a tie!\")\n",
    "    elif player_choice == \"R\" and bot_choice == \"S\":\n",
    "        print(\"You win!\")\n",
    "    elif player_choice == \"P\" and bot_choice == \"R\":\n",
    "        print(\"You win!\")\n",
    "    elif player_choice == \"S\" and bot_choice == \"P\":\n",
    "        print(\"You win!\")\n",
    "    else:\n",
    "        print(\"You lose.\")\n",
    "\n",
    "    play_again = input(\"Do you want to play again? (y/n)\").lower()\n",
    "    if play_again != \"y\" or \"yes\":\n",
    "        break"
   ]
  },
  {
   "attachments": {},
   "cell_type": "markdown",
   "metadata": {},
   "source": [
    "<details><summary>Done By</summary>\n",
    "<center> Ahmed NasrElDin </center> \n",
    "</details>\n"
   ]
  }
 ],
 "metadata": {
  "kernelspec": {
   "display_name": "DS",
   "language": "python",
   "name": "python3"
  },
  "language_info": {
   "codemirror_mode": {
    "name": "ipython",
    "version": 3
   },
   "file_extension": ".py",
   "mimetype": "text/x-python",
   "name": "python",
   "nbconvert_exporter": "python",
   "pygments_lexer": "ipython3",
   "version": "3.10.8"
  },
  "orig_nbformat": 4,
  "vscode": {
   "interpreter": {
    "hash": "2f35561962b3536e798d9d7f8aed8a6570157df2537699a33c475af9309799d3"
   }
  }
 },
 "nbformat": 4,
 "nbformat_minor": 2
}
